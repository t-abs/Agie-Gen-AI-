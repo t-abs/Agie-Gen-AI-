{
  "nbformat": 4,
  "nbformat_minor": 0,
  "metadata": {
    "colab": {
      "provenance": []
    },
    "kernelspec": {
      "name": "python3",
      "display_name": "Python 3"
    },
    "language_info": {
      "name": "python"
    }
  },
  "cells": [
    {
      "cell_type": "code",
      "execution_count": 1,
      "metadata": {
        "id": "TJ40JjuhrQcp"
      },
      "outputs": [],
      "source": [
        "import pandas as pd\n",
        "import numpy as np\n"
      ]
    },
    {
      "cell_type": "code",
      "source": [
        "df=pd.read_csv(\"/content/Evening-28th-June.csv\")"
      ],
      "metadata": {
        "id": "c1N-H4OArjmX"
      },
      "execution_count": 2,
      "outputs": []
    },
    {
      "cell_type": "code",
      "source": [
        "df.head()"
      ],
      "metadata": {
        "colab": {
          "base_uri": "https://localhost:8080/",
          "height": 206
        },
        "id": "zIkyI04trm9y",
        "outputId": "caed948e-ccf8-46b3-93ac-778ef271166e"
      },
      "execution_count": 3,
      "outputs": [
        {
          "output_type": "execute_result",
          "data": {
            "text/plain": [
              "             Name (Original Name)       User Email               Join Time  \\\n",
              "0                     Agrima Jain              NaN  06/28/2024 08:56:01 PM   \n",
              "1          AIML-19-SHOUNAK_SARKAR              NaN  06/28/2024 08:56:04 PM   \n",
              "2                  Akshita Roshan              NaN  06/28/2024 08:56:07 PM   \n",
              "3            Revanth Christober M              NaN  06/28/2024 08:56:08 PM   \n",
              "4  Krishna Singh (Akshita Roshan)  akshita@agie.ai  06/28/2024 08:56:10 PM   \n",
              "\n",
              "               Leave Time  Duration (Minutes) Guest  \\\n",
              "0  06/28/2024 08:59:15 PM                   4   Yes   \n",
              "1  06/28/2024 08:57:19 PM                   2   Yes   \n",
              "2  06/28/2024 08:57:20 PM                   2   Yes   \n",
              "3  06/28/2024 08:57:24 PM                   2   Yes   \n",
              "4  06/28/2024 09:19:37 PM                  24    No   \n",
              "\n",
              "  Recording Disclaimer Response In Waiting Room  \n",
              "0                   No Response              No  \n",
              "1                   No Response             Yes  \n",
              "2                   No Response             Yes  \n",
              "3                   No Response             Yes  \n",
              "4                            OK              No  "
            ],
            "text/html": [
              "\n",
              "  <div id=\"df-19fc7f2b-0eb4-49db-87c5-d2d2eb934cdc\" class=\"colab-df-container\">\n",
              "    <div>\n",
              "<style scoped>\n",
              "    .dataframe tbody tr th:only-of-type {\n",
              "        vertical-align: middle;\n",
              "    }\n",
              "\n",
              "    .dataframe tbody tr th {\n",
              "        vertical-align: top;\n",
              "    }\n",
              "\n",
              "    .dataframe thead th {\n",
              "        text-align: right;\n",
              "    }\n",
              "</style>\n",
              "<table border=\"1\" class=\"dataframe\">\n",
              "  <thead>\n",
              "    <tr style=\"text-align: right;\">\n",
              "      <th></th>\n",
              "      <th>Name (Original Name)</th>\n",
              "      <th>User Email</th>\n",
              "      <th>Join Time</th>\n",
              "      <th>Leave Time</th>\n",
              "      <th>Duration (Minutes)</th>\n",
              "      <th>Guest</th>\n",
              "      <th>Recording Disclaimer Response</th>\n",
              "      <th>In Waiting Room</th>\n",
              "    </tr>\n",
              "  </thead>\n",
              "  <tbody>\n",
              "    <tr>\n",
              "      <th>0</th>\n",
              "      <td>Agrima Jain</td>\n",
              "      <td>NaN</td>\n",
              "      <td>06/28/2024 08:56:01 PM</td>\n",
              "      <td>06/28/2024 08:59:15 PM</td>\n",
              "      <td>4</td>\n",
              "      <td>Yes</td>\n",
              "      <td>No Response</td>\n",
              "      <td>No</td>\n",
              "    </tr>\n",
              "    <tr>\n",
              "      <th>1</th>\n",
              "      <td>AIML-19-SHOUNAK_SARKAR</td>\n",
              "      <td>NaN</td>\n",
              "      <td>06/28/2024 08:56:04 PM</td>\n",
              "      <td>06/28/2024 08:57:19 PM</td>\n",
              "      <td>2</td>\n",
              "      <td>Yes</td>\n",
              "      <td>No Response</td>\n",
              "      <td>Yes</td>\n",
              "    </tr>\n",
              "    <tr>\n",
              "      <th>2</th>\n",
              "      <td>Akshita Roshan</td>\n",
              "      <td>NaN</td>\n",
              "      <td>06/28/2024 08:56:07 PM</td>\n",
              "      <td>06/28/2024 08:57:20 PM</td>\n",
              "      <td>2</td>\n",
              "      <td>Yes</td>\n",
              "      <td>No Response</td>\n",
              "      <td>Yes</td>\n",
              "    </tr>\n",
              "    <tr>\n",
              "      <th>3</th>\n",
              "      <td>Revanth Christober M</td>\n",
              "      <td>NaN</td>\n",
              "      <td>06/28/2024 08:56:08 PM</td>\n",
              "      <td>06/28/2024 08:57:24 PM</td>\n",
              "      <td>2</td>\n",
              "      <td>Yes</td>\n",
              "      <td>No Response</td>\n",
              "      <td>Yes</td>\n",
              "    </tr>\n",
              "    <tr>\n",
              "      <th>4</th>\n",
              "      <td>Krishna Singh (Akshita Roshan)</td>\n",
              "      <td>akshita@agie.ai</td>\n",
              "      <td>06/28/2024 08:56:10 PM</td>\n",
              "      <td>06/28/2024 09:19:37 PM</td>\n",
              "      <td>24</td>\n",
              "      <td>No</td>\n",
              "      <td>OK</td>\n",
              "      <td>No</td>\n",
              "    </tr>\n",
              "  </tbody>\n",
              "</table>\n",
              "</div>\n",
              "    <div class=\"colab-df-buttons\">\n",
              "\n",
              "  <div class=\"colab-df-container\">\n",
              "    <button class=\"colab-df-convert\" onclick=\"convertToInteractive('df-19fc7f2b-0eb4-49db-87c5-d2d2eb934cdc')\"\n",
              "            title=\"Convert this dataframe to an interactive table.\"\n",
              "            style=\"display:none;\">\n",
              "\n",
              "  <svg xmlns=\"http://www.w3.org/2000/svg\" height=\"24px\" viewBox=\"0 -960 960 960\">\n",
              "    <path d=\"M120-120v-720h720v720H120Zm60-500h600v-160H180v160Zm220 220h160v-160H400v160Zm0 220h160v-160H400v160ZM180-400h160v-160H180v160Zm440 0h160v-160H620v160ZM180-180h160v-160H180v160Zm440 0h160v-160H620v160Z\"/>\n",
              "  </svg>\n",
              "    </button>\n",
              "\n",
              "  <style>\n",
              "    .colab-df-container {\n",
              "      display:flex;\n",
              "      gap: 12px;\n",
              "    }\n",
              "\n",
              "    .colab-df-convert {\n",
              "      background-color: #E8F0FE;\n",
              "      border: none;\n",
              "      border-radius: 50%;\n",
              "      cursor: pointer;\n",
              "      display: none;\n",
              "      fill: #1967D2;\n",
              "      height: 32px;\n",
              "      padding: 0 0 0 0;\n",
              "      width: 32px;\n",
              "    }\n",
              "\n",
              "    .colab-df-convert:hover {\n",
              "      background-color: #E2EBFA;\n",
              "      box-shadow: 0px 1px 2px rgba(60, 64, 67, 0.3), 0px 1px 3px 1px rgba(60, 64, 67, 0.15);\n",
              "      fill: #174EA6;\n",
              "    }\n",
              "\n",
              "    .colab-df-buttons div {\n",
              "      margin-bottom: 4px;\n",
              "    }\n",
              "\n",
              "    [theme=dark] .colab-df-convert {\n",
              "      background-color: #3B4455;\n",
              "      fill: #D2E3FC;\n",
              "    }\n",
              "\n",
              "    [theme=dark] .colab-df-convert:hover {\n",
              "      background-color: #434B5C;\n",
              "      box-shadow: 0px 1px 3px 1px rgba(0, 0, 0, 0.15);\n",
              "      filter: drop-shadow(0px 1px 2px rgba(0, 0, 0, 0.3));\n",
              "      fill: #FFFFFF;\n",
              "    }\n",
              "  </style>\n",
              "\n",
              "    <script>\n",
              "      const buttonEl =\n",
              "        document.querySelector('#df-19fc7f2b-0eb4-49db-87c5-d2d2eb934cdc button.colab-df-convert');\n",
              "      buttonEl.style.display =\n",
              "        google.colab.kernel.accessAllowed ? 'block' : 'none';\n",
              "\n",
              "      async function convertToInteractive(key) {\n",
              "        const element = document.querySelector('#df-19fc7f2b-0eb4-49db-87c5-d2d2eb934cdc');\n",
              "        const dataTable =\n",
              "          await google.colab.kernel.invokeFunction('convertToInteractive',\n",
              "                                                    [key], {});\n",
              "        if (!dataTable) return;\n",
              "\n",
              "        const docLinkHtml = 'Like what you see? Visit the ' +\n",
              "          '<a target=\"_blank\" href=https://colab.research.google.com/notebooks/data_table.ipynb>data table notebook</a>'\n",
              "          + ' to learn more about interactive tables.';\n",
              "        element.innerHTML = '';\n",
              "        dataTable['output_type'] = 'display_data';\n",
              "        await google.colab.output.renderOutput(dataTable, element);\n",
              "        const docLink = document.createElement('div');\n",
              "        docLink.innerHTML = docLinkHtml;\n",
              "        element.appendChild(docLink);\n",
              "      }\n",
              "    </script>\n",
              "  </div>\n",
              "\n",
              "\n",
              "<div id=\"df-76c7692a-0a00-4fd3-8163-d052b7c866f9\">\n",
              "  <button class=\"colab-df-quickchart\" onclick=\"quickchart('df-76c7692a-0a00-4fd3-8163-d052b7c866f9')\"\n",
              "            title=\"Suggest charts\"\n",
              "            style=\"display:none;\">\n",
              "\n",
              "<svg xmlns=\"http://www.w3.org/2000/svg\" height=\"24px\"viewBox=\"0 0 24 24\"\n",
              "     width=\"24px\">\n",
              "    <g>\n",
              "        <path d=\"M19 3H5c-1.1 0-2 .9-2 2v14c0 1.1.9 2 2 2h14c1.1 0 2-.9 2-2V5c0-1.1-.9-2-2-2zM9 17H7v-7h2v7zm4 0h-2V7h2v10zm4 0h-2v-4h2v4z\"/>\n",
              "    </g>\n",
              "</svg>\n",
              "  </button>\n",
              "\n",
              "<style>\n",
              "  .colab-df-quickchart {\n",
              "      --bg-color: #E8F0FE;\n",
              "      --fill-color: #1967D2;\n",
              "      --hover-bg-color: #E2EBFA;\n",
              "      --hover-fill-color: #174EA6;\n",
              "      --disabled-fill-color: #AAA;\n",
              "      --disabled-bg-color: #DDD;\n",
              "  }\n",
              "\n",
              "  [theme=dark] .colab-df-quickchart {\n",
              "      --bg-color: #3B4455;\n",
              "      --fill-color: #D2E3FC;\n",
              "      --hover-bg-color: #434B5C;\n",
              "      --hover-fill-color: #FFFFFF;\n",
              "      --disabled-bg-color: #3B4455;\n",
              "      --disabled-fill-color: #666;\n",
              "  }\n",
              "\n",
              "  .colab-df-quickchart {\n",
              "    background-color: var(--bg-color);\n",
              "    border: none;\n",
              "    border-radius: 50%;\n",
              "    cursor: pointer;\n",
              "    display: none;\n",
              "    fill: var(--fill-color);\n",
              "    height: 32px;\n",
              "    padding: 0;\n",
              "    width: 32px;\n",
              "  }\n",
              "\n",
              "  .colab-df-quickchart:hover {\n",
              "    background-color: var(--hover-bg-color);\n",
              "    box-shadow: 0 1px 2px rgba(60, 64, 67, 0.3), 0 1px 3px 1px rgba(60, 64, 67, 0.15);\n",
              "    fill: var(--button-hover-fill-color);\n",
              "  }\n",
              "\n",
              "  .colab-df-quickchart-complete:disabled,\n",
              "  .colab-df-quickchart-complete:disabled:hover {\n",
              "    background-color: var(--disabled-bg-color);\n",
              "    fill: var(--disabled-fill-color);\n",
              "    box-shadow: none;\n",
              "  }\n",
              "\n",
              "  .colab-df-spinner {\n",
              "    border: 2px solid var(--fill-color);\n",
              "    border-color: transparent;\n",
              "    border-bottom-color: var(--fill-color);\n",
              "    animation:\n",
              "      spin 1s steps(1) infinite;\n",
              "  }\n",
              "\n",
              "  @keyframes spin {\n",
              "    0% {\n",
              "      border-color: transparent;\n",
              "      border-bottom-color: var(--fill-color);\n",
              "      border-left-color: var(--fill-color);\n",
              "    }\n",
              "    20% {\n",
              "      border-color: transparent;\n",
              "      border-left-color: var(--fill-color);\n",
              "      border-top-color: var(--fill-color);\n",
              "    }\n",
              "    30% {\n",
              "      border-color: transparent;\n",
              "      border-left-color: var(--fill-color);\n",
              "      border-top-color: var(--fill-color);\n",
              "      border-right-color: var(--fill-color);\n",
              "    }\n",
              "    40% {\n",
              "      border-color: transparent;\n",
              "      border-right-color: var(--fill-color);\n",
              "      border-top-color: var(--fill-color);\n",
              "    }\n",
              "    60% {\n",
              "      border-color: transparent;\n",
              "      border-right-color: var(--fill-color);\n",
              "    }\n",
              "    80% {\n",
              "      border-color: transparent;\n",
              "      border-right-color: var(--fill-color);\n",
              "      border-bottom-color: var(--fill-color);\n",
              "    }\n",
              "    90% {\n",
              "      border-color: transparent;\n",
              "      border-bottom-color: var(--fill-color);\n",
              "    }\n",
              "  }\n",
              "</style>\n",
              "\n",
              "  <script>\n",
              "    async function quickchart(key) {\n",
              "      const quickchartButtonEl =\n",
              "        document.querySelector('#' + key + ' button');\n",
              "      quickchartButtonEl.disabled = true;  // To prevent multiple clicks.\n",
              "      quickchartButtonEl.classList.add('colab-df-spinner');\n",
              "      try {\n",
              "        const charts = await google.colab.kernel.invokeFunction(\n",
              "            'suggestCharts', [key], {});\n",
              "      } catch (error) {\n",
              "        console.error('Error during call to suggestCharts:', error);\n",
              "      }\n",
              "      quickchartButtonEl.classList.remove('colab-df-spinner');\n",
              "      quickchartButtonEl.classList.add('colab-df-quickchart-complete');\n",
              "    }\n",
              "    (() => {\n",
              "      let quickchartButtonEl =\n",
              "        document.querySelector('#df-76c7692a-0a00-4fd3-8163-d052b7c866f9 button');\n",
              "      quickchartButtonEl.style.display =\n",
              "        google.colab.kernel.accessAllowed ? 'block' : 'none';\n",
              "    })();\n",
              "  </script>\n",
              "</div>\n",
              "\n",
              "    </div>\n",
              "  </div>\n"
            ],
            "application/vnd.google.colaboratory.intrinsic+json": {
              "type": "dataframe",
              "variable_name": "df",
              "summary": "{\n  \"name\": \"df\",\n  \"rows\": 579,\n  \"fields\": [\n    {\n      \"column\": \"Name (Original Name)\",\n      \"properties\": {\n        \"dtype\": \"category\",\n        \"num_unique_values\": 161,\n        \"samples\": [\n          \"Janhavi Doijad\",\n          \"Karan Officials\",\n          \"Ankit Namdev\"\n        ],\n        \"semantic_type\": \"\",\n        \"description\": \"\"\n      }\n    },\n    {\n      \"column\": \"User Email\",\n      \"properties\": {\n        \"dtype\": \"category\",\n        \"num_unique_values\": 1,\n        \"samples\": [\n          \"akshita@agie.ai\"\n        ],\n        \"semantic_type\": \"\",\n        \"description\": \"\"\n      }\n    },\n    {\n      \"column\": \"Join Time\",\n      \"properties\": {\n        \"dtype\": \"object\",\n        \"num_unique_values\": 410,\n        \"samples\": [\n          \"06/28/2024 09:17:26 PM\"\n        ],\n        \"semantic_type\": \"\",\n        \"description\": \"\"\n      }\n    },\n    {\n      \"column\": \"Leave Time\",\n      \"properties\": {\n        \"dtype\": \"object\",\n        \"num_unique_values\": 331,\n        \"samples\": [\n          \"06/28/2024 09:11:27 PM\"\n        ],\n        \"semantic_type\": \"\",\n        \"description\": \"\"\n      }\n    },\n    {\n      \"column\": \"Duration (Minutes)\",\n      \"properties\": {\n        \"dtype\": \"number\",\n        \"std\": 17,\n        \"min\": 0,\n        \"max\": 85,\n        \"num_unique_values\": 52,\n        \"samples\": [\n          80\n        ],\n        \"semantic_type\": \"\",\n        \"description\": \"\"\n      }\n    },\n    {\n      \"column\": \"Guest\",\n      \"properties\": {\n        \"dtype\": \"category\",\n        \"num_unique_values\": 2,\n        \"samples\": [\n          \"No\"\n        ],\n        \"semantic_type\": \"\",\n        \"description\": \"\"\n      }\n    },\n    {\n      \"column\": \"Recording Disclaimer Response\",\n      \"properties\": {\n        \"dtype\": \"category\",\n        \"num_unique_values\": 2,\n        \"samples\": [\n          \"OK\"\n        ],\n        \"semantic_type\": \"\",\n        \"description\": \"\"\n      }\n    },\n    {\n      \"column\": \"In Waiting Room\",\n      \"properties\": {\n        \"dtype\": \"category\",\n        \"num_unique_values\": 2,\n        \"samples\": [\n          \"Yes\"\n        ],\n        \"semantic_type\": \"\",\n        \"description\": \"\"\n      }\n    }\n  ]\n}"
            }
          },
          "metadata": {},
          "execution_count": 3
        }
      ]
    },
    {
      "cell_type": "code",
      "source": [
        "import pandas as pd\n",
        "\n",
        "# Assuming 'Duration' is in HH:MM:SS format and exists in your DataFrame\n",
        "# Convert the 'Duration' column to timedelta for proper aggregation\n",
        "df['Duration (Minutes)'] = pd.to_timedelta(df['Duration (Minutes)'])\n",
        "\n",
        "# Group by 'Name (Original Name)' and calculate the total duration\n",
        "total_durations = df.groupby('Name (Original Name)')['Duration (Minutes)'].sum().reset_index()\n",
        "\n",
        "# Print the result\n",
        "print(total_durations)"
      ],
      "metadata": {
        "colab": {
          "base_uri": "https://localhost:8080/"
        },
        "id": "-dApSQ00rpd6",
        "outputId": "830de000-0948-4895-a0c4-d979642f3de9"
      },
      "execution_count": 4,
      "outputs": [
        {
          "output_type": "stream",
          "name": "stdout",
          "text": [
            "       Name (Original Name)        Duration (Minutes)\n",
            "0         '-Meet Vaghasiya- 0 days 00:00:00.000000018\n",
            "1              091101 10101 0 days 00:00:00.000000001\n",
            "2         4191_MahimaMaurya 0 days 00:00:00.000000036\n",
            "3          445 Sagar Bokade 0 days 00:00:00.000000075\n",
            "4    AIML-19-SHOUNAK_SARKAR 0 days 00:00:00.000000088\n",
            "..                      ...                       ...\n",
            "156       Yashraj Choudhary 0 days 00:00:00.000000071\n",
            "157          lakshay sharma 0 days 00:00:00.000000037\n",
            "158            rinkesh sahu 0 days 00:00:00.000000048\n",
            "159       samruddhi shirode 0 days 00:00:00.000000050\n",
            "160          sharib mallick 0 days 00:00:00.000000064\n",
            "\n",
            "[161 rows x 2 columns]\n"
          ]
        }
      ]
    },
    {
      "cell_type": "code",
      "source": [
        "# Ensure the 'Duration (Minutes)' column is in numerical format\n",
        "df['Duration (Minutes)'] = pd.to_numeric(df['Duration (Minutes)'], errors='coerce')\n",
        "\n",
        "# Calculate the total duration of attendance for the entire batch\n",
        "total_batch_duration = df['Duration (Minutes)'].sum()\n",
        "\n",
        "# Print the result\n",
        "print(f'Total Duration of Attendance for the Batch: {total_batch_duration} minutes')"
      ],
      "metadata": {
        "colab": {
          "base_uri": "https://localhost:8080/"
        },
        "id": "MOzoyeegrtlb",
        "outputId": "719c8797-dfbc-4c7d-94cb-099cf2c75666"
      },
      "execution_count": 5,
      "outputs": [
        {
          "output_type": "stream",
          "name": "stdout",
          "text": [
            "Total Duration of Attendance for the Batch: 10022 minutes\n"
          ]
        }
      ]
    },
    {
      "cell_type": "code",
      "source": [
        "# Ensure the 'Duration (Minutes)' column is in numerical format\n",
        "df['Duration (Minutes)'] = pd.to_numeric(df['Duration (Minutes)'], errors='coerce')\n",
        "\n",
        "# Calculate the average duration of attendance for the entire batch\n",
        "average_batch_duration = df['Duration (Minutes)'].mean()\n",
        "\n",
        "# Print the result\n",
        "print(f'Average Duration of Attendance for the Batch: {average_batch_duration} minutes')"
      ],
      "metadata": {
        "colab": {
          "base_uri": "https://localhost:8080/"
        },
        "id": "RtQy4yWZr8eu",
        "outputId": "8f38cca0-0e59-4d71-cbe8-ad91259519dc"
      },
      "execution_count": 6,
      "outputs": [
        {
          "output_type": "stream",
          "name": "stdout",
          "text": [
            "Average Duration of Attendance for the Batch: 17.30915371329879 minutes\n"
          ]
        }
      ]
    },
    {
      "cell_type": "code",
      "source": [
        "\n",
        "\n",
        "# Ensure the 'Duration (Minutes)' column is in numerical format\n",
        "df['Duration (Minutes)'] = pd.to_numeric(df['Duration (Minutes)'], errors='coerce')\n",
        "\n",
        "# Drop rows with missing 'Duration (Minutes)' data (if needed)\n",
        "df.dropna(subset=['Duration (Minutes)'], inplace=True)\n",
        "\n",
        "# Calculate standard deviation of attendance duration for each batch\n",
        "std_dev_per_batch = df['Duration (Minutes)'].std()\n",
        "\n",
        "# Print the result\n",
        "print(\"Standard Deviation of Attendance Duration for Each Batch:\")\n",
        "print(std_dev_per_batch)"
      ],
      "metadata": {
        "colab": {
          "base_uri": "https://localhost:8080/"
        },
        "id": "TlFOekK6sA07",
        "outputId": "32a37432-0283-40cb-c923-f44d5ac0ce7e"
      },
      "execution_count": 7,
      "outputs": [
        {
          "output_type": "stream",
          "name": "stdout",
          "text": [
            "Standard Deviation of Attendance Duration for Each Batch:\n",
            "17.728325695945504\n"
          ]
        }
      ]
    },
    {
      "cell_type": "code",
      "source": [
        "# Ensure the 'Duration (Minutes)' column is in numerical format\n",
        "df['Duration (Minutes)'] = pd.to_numeric(df['Duration (Minutes)'], errors='coerce')\n",
        "\n",
        "# Drop rows with missing 'Duration (Minutes)' data (if needed)\n",
        "df.dropna(subset=['Duration (Minutes)'], inplace=True)\n",
        "\n",
        "# Calculate average duration for each batch\n",
        "average_batch_duration = df['Duration (Minutes)'].mean()\n",
        "\n",
        "# Add the average duration as a new column to the DataFrame\n",
        "df['Average Duration'] = average_batch_duration # Add this line to create the missing column\n",
        "\n",
        "# Calculate number of users attending more than average duration per batch\n",
        "df['Above Average'] = df['Duration (Minutes)'] > df['Average Duration']\n",
        "count_above_average = df['Above Average'].sum()\n",
        "\n",
        "# Calculate percentage of users attending more than average duration per batch\n",
        "total_users = len(df)  # Use len(df) to get the number of rows\n",
        "percentage_above_average = (count_above_average / total_users) * 100\n",
        "\n",
        "# Print the result\n",
        "print(\"Percentage of Users Attending More than Average Duration for Each Batch:\")\n",
        "print(percentage_above_average)"
      ],
      "metadata": {
        "colab": {
          "base_uri": "https://localhost:8080/"
        },
        "id": "61VwcE1ysDVs",
        "outputId": "aa9c7c67-0ad5-481d-a0c9-5274eee545df"
      },
      "execution_count": 8,
      "outputs": [
        {
          "output_type": "stream",
          "name": "stdout",
          "text": [
            "Percentage of Users Attending More than Average Duration for Each Batch:\n",
            "29.533678756476682\n"
          ]
        }
      ]
    },
    {
      "cell_type": "code",
      "source": [
        "import pandas as pd\n",
        "import matplotlib.pyplot as plt\n",
        "\n",
        "# Assuming 'df' is your DataFrame and 'Duration (Minutes)' is a numerical column\n",
        "\n",
        "# Define the bin edges for the histogram\n",
        "bins = [0, 10, 20, 30, 40, 50, 60, 70, 80]  # Customize as needed\n",
        "\n",
        "# Plot the histogram\n",
        "plt.hist(df['Duration (Minutes)'], bins=bins, edgecolor='black')\n",
        "\n",
        "# Set labels and title\n",
        "plt.xlabel('Duration (Minutes)')\n",
        "plt.ylabel('Number of Users')\n",
        "plt.title('Distribution of User Durations')\n",
        "\n",
        "# Show the plot\n",
        "plt.show()"
      ],
      "metadata": {
        "colab": {
          "base_uri": "https://localhost:8080/",
          "height": 472
        },
        "id": "AM62XbjisIay",
        "outputId": "88b66353-9c06-491b-c8c2-3a341acd4a17"
      },
      "execution_count": 9,
      "outputs": [
        {
          "output_type": "display_data",
          "data": {
            "text/plain": [
              "<Figure size 640x480 with 1 Axes>"
            ],
            "image/png": "[encoded data removed]"
          },
          "metadata": {}
        }
      ]
    }
  ]
}
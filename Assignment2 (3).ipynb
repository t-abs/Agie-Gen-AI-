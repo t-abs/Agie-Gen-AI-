{
  "nbformat": 4,
  "nbformat_minor": 0,
  "metadata": {
    "colab": {
      "provenance": []
    },
    "kernelspec": {
      "name": "python3",
      "display_name": "Python 3"
    },
    "language_info": {
      "name": "python"
    }
  },
  "cells": [
    {
      "cell_type": "code",
      "source": [
        "import requests\n",
        "import json\n",
        "\n",
        "# Constants for API endpoints and authentication\n",
        "GROK_API_URL = 'https://api.grok.com'\n",
        "GROK_API_KEY = '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'\n",
        "\n",
        "def grade_student_submission(submission_text):\n",
        "    headers = {\n",
        "        'Authorization': f'Bearer {GROK_API_KEY}',\n",
        "        'Content-Type': 'application/json'\n",
        "    }\n",
        "    data = {\n",
        "        'text': submission_text,\n",
        "        'task': '/content/Assignment2.ipynb'\n",
        "    }\n",
        "    try:\n",
        "        response = requests.post(f'{GROK_API_URL}/evaluate', headers=headers, json=data)\n",
        "        if response.status_code == 200:\n",
        "            evaluation_result = response.json()\n",
        "            score = evaluation_result['score']\n",
        "            feedback = evaluation_result['feedback']\n",
        "            return score, feedback\n",
        "        else:\n",
        "            print(f'Response Status Code: {response.status_code}')\n",
        "            print(f'Response Text: {response.text}')\n",
        "            return None, 'Evaluation failed.'\n",
        "    except Exception as e:\n",
        "        print(f'Exception occurred: {str(e)}')\n",
        "        return None, 'Evaluation failed.'\n",
        "\n",
        "# Example usage\n",
        "if __name__ == '__main__':\n",
        "    # Assume submission_text is obtained from student submissions\n",
        "    submission_text = \"print('Hello, World!')\"\n",
        "    score, feedback = grade_student_submission(submission_text)\n",
        "    if score is not None:\n",
        "        print(f'Score: {score}')\n",
        "        print(f'Feedback: {feedback}')\n",
        "    else:\n",
        "        print('Evaluation failed.')\n"
      ],
      "metadata": {
        "id": "z-4lQz6xGkba"
      },
      "execution_count": null,
      "outputs": []
    }
  ]
}
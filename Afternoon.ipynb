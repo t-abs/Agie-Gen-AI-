{
  "nbformat": 4,
  "nbformat_minor": 0,
  "metadata": {
    "colab": {
      "provenance": []
    },
    "kernelspec": {
      "name": "python3",
      "display_name": "Python 3"
    },
    "language_info": {
      "name": "python"
    }
  },
  "cells": [
    {
      "cell_type": "code",
      "execution_count": 2,
      "metadata": {
        "id": "QGeFiGwGKbh1"
      },
      "outputs": [],
      "source": [
        "import pandas as pd\n",
        "import numpy as np\n"
      ]
    },
    {
      "cell_type": "code",
      "source": [
        "df=pd.read_csv(\"/content/Afternoon-28th-June.csv\")"
      ],
      "metadata": {
        "id": "C1dIB54MKlbq"
      },
      "execution_count": 3,
      "outputs": []
    },
    {
      "cell_type": "code",
      "source": [
        "df.head()"
      ],
      "metadata": {
        "colab": {
          "base_uri": "https://localhost:8080/",
          "height": 206
        },
        "id": "nHqRnGD-h8Rc",
        "outputId": "f99dfa0a-1ad6-44aa-b56a-78fb594fd181"
      },
      "execution_count": 5,
      "outputs": [
        {
          "output_type": "execute_result",
          "data": {
            "text/plain": [
              "            Name (Original Name)       User Email               Join Time  \\\n",
              "0  Krisha Singh (Akshita Roshan)  akshita@agie.ai  06/28/2024 03:57:40 PM   \n",
              "1                         Tanuja              NaN  06/28/2024 03:57:49 PM   \n",
              "2                      Yash Goel              NaN  06/28/2024 03:57:53 PM   \n",
              "3                        Darshan              NaN  06/28/2024 03:57:53 PM   \n",
              "4                    sneha pawar              NaN  06/28/2024 03:57:56 PM   \n",
              "\n",
              "               Leave Time  Duration (Minutes) Guest In Waiting Room  \n",
              "0  06/28/2024 04:19:20 PM                  22    No              No  \n",
              "1  06/28/2024 03:58:04 PM                   1   Yes             Yes  \n",
              "2  06/28/2024 03:58:09 PM                   1   Yes             Yes  \n",
              "3  06/28/2024 03:58:09 PM                   1   Yes             Yes  \n",
              "4  06/28/2024 03:58:20 PM                   1   Yes             Yes  "
            ],
            "text/html": [
              "\n",
              "  <div id=\"df-d7c21e59-da37-41d8-aa21-a3372fcd2669\" class=\"colab-df-container\">\n",
              "    <div>\n",
              "<style scoped>\n",
              "    .dataframe tbody tr th:only-of-type {\n",
              "        vertical-align: middle;\n",
              "    }\n",
              "\n",
              "    .dataframe tbody tr th {\n",
              "        vertical-align: top;\n",
              "    }\n",
              "\n",
              "    .dataframe thead th {\n",
              "        text-align: right;\n",
              "    }\n",
              "</style>\n",
              "<table border=\"1\" class=\"dataframe\">\n",
              "  <thead>\n",
              "    <tr style=\"text-align: right;\">\n",
              "      <th></th>\n",
              "      <th>Name (Original Name)</th>\n",
              "      <th>User Email</th>\n",
              "      <th>Join Time</th>\n",
              "      <th>Leave Time</th>\n",
              "      <th>Duration (Minutes)</th>\n",
              "      <th>Guest</th>\n",
              "      <th>In Waiting Room</th>\n",
              "    </tr>\n",
              "  </thead>\n",
              "  <tbody>\n",
              "    <tr>\n",
              "      <th>0</th>\n",
              "      <td>Krisha Singh (Akshita Roshan)</td>\n",
              "      <td>akshita@agie.ai</td>\n",
              "      <td>06/28/2024 03:57:40 PM</td>\n",
              "      <td>06/28/2024 04:19:20 PM</td>\n",
              "      <td>22</td>\n",
              "      <td>No</td>\n",
              "      <td>No</td>\n",
              "    </tr>\n",
              "    <tr>\n",
              "      <th>1</th>\n",
              "      <td>Tanuja</td>\n",
              "      <td>NaN</td>\n",
              "      <td>06/28/2024 03:57:49 PM</td>\n",
              "      <td>06/28/2024 03:58:04 PM</td>\n",
              "      <td>1</td>\n",
              "      <td>Yes</td>\n",
              "      <td>Yes</td>\n",
              "    </tr>\n",
              "    <tr>\n",
              "      <th>2</th>\n",
              "      <td>Yash Goel</td>\n",
              "      <td>NaN</td>\n",
              "      <td>06/28/2024 03:57:53 PM</td>\n",
              "      <td>06/28/2024 03:58:09 PM</td>\n",
              "      <td>1</td>\n",
              "      <td>Yes</td>\n",
              "      <td>Yes</td>\n",
              "    </tr>\n",
              "    <tr>\n",
              "      <th>3</th>\n",
              "      <td>Darshan</td>\n",
              "      <td>NaN</td>\n",
              "      <td>06/28/2024 03:57:53 PM</td>\n",
              "      <td>06/28/2024 03:58:09 PM</td>\n",
              "      <td>1</td>\n",
              "      <td>Yes</td>\n",
              "      <td>Yes</td>\n",
              "    </tr>\n",
              "    <tr>\n",
              "      <th>4</th>\n",
              "      <td>sneha pawar</td>\n",
              "      <td>NaN</td>\n",
              "      <td>06/28/2024 03:57:56 PM</td>\n",
              "      <td>06/28/2024 03:58:20 PM</td>\n",
              "      <td>1</td>\n",
              "      <td>Yes</td>\n",
              "      <td>Yes</td>\n",
              "    </tr>\n",
              "  </tbody>\n",
              "</table>\n",
              "</div>\n",
              "    <div class=\"colab-df-buttons\">\n",
              "\n",
              "  <div class=\"colab-df-container\">\n",
              "    <button class=\"colab-df-convert\" onclick=\"convertToInteractive('df-d7c21e59-da37-41d8-aa21-a3372fcd2669')\"\n",
              "            title=\"Convert this dataframe to an interactive table.\"\n",
              "            style=\"display:none;\">\n",
              "\n",
              "  <svg xmlns=\"http://www.w3.org/2000/svg\" height=\"24px\" viewBox=\"0 -960 960 960\">\n",
              "    <path d=\"M120-120v-720h720v720H120Zm60-500h600v-160H180v160Zm220 220h160v-160H400v160Zm0 220h160v-160H400v160ZM180-400h160v-160H180v160Zm440 0h160v-160H620v160ZM180-180h160v-160H180v160Zm440 0h160v-160H620v160Z\"/>\n",
              "  </svg>\n",
              "    </button>\n",
              "\n",
              "  <style>\n",
              "    .colab-df-container {\n",
              "      display:flex;\n",
              "      gap: 12px;\n",
              "    }\n",
              "\n",
              "    .colab-df-convert {\n",
              "      background-color: #E8F0FE;\n",
              "      border: none;\n",
              "      border-radius: 50%;\n",
              "      cursor: pointer;\n",
              "      display: none;\n",
              "      fill: #1967D2;\n",
              "      height: 32px;\n",
              "      padding: 0 0 0 0;\n",
              "      width: 32px;\n",
              "    }\n",
              "\n",
              "    .colab-df-convert:hover {\n",
              "      background-color: #E2EBFA;\n",
              "      box-shadow: 0px 1px 2px rgba(60, 64, 67, 0.3), 0px 1px 3px 1px rgba(60, 64, 67, 0.15);\n",
              "      fill: #174EA6;\n",
              "    }\n",
              "\n",
              "    .colab-df-buttons div {\n",
              "      margin-bottom: 4px;\n",
              "    }\n",
              "\n",
              "    [theme=dark] .colab-df-convert {\n",
              "      background-color: #3B4455;\n",
              "      fill: #D2E3FC;\n",
              "    }\n",
              "\n",
              "    [theme=dark] .colab-df-convert:hover {\n",
              "      background-color: #434B5C;\n",
              "      box-shadow: 0px 1px 3px 1px rgba(0, 0, 0, 0.15);\n",
              "      filter: drop-shadow(0px 1px 2px rgba(0, 0, 0, 0.3));\n",
              "      fill: #FFFFFF;\n",
              "    }\n",
              "  </style>\n",
              "\n",
              "    <script>\n",
              "      const buttonEl =\n",
              "        document.querySelector('#df-d7c21e59-da37-41d8-aa21-a3372fcd2669 button.colab-df-convert');\n",
              "      buttonEl.style.display =\n",
              "        google.colab.kernel.accessAllowed ? 'block' : 'none';\n",
              "\n",
              "      async function convertToInteractive(key) {\n",
              "        const element = document.querySelector('#df-d7c21e59-da37-41d8-aa21-a3372fcd2669');\n",
              "        const dataTable =\n",
              "          await google.colab.kernel.invokeFunction('convertToInteractive',\n",
              "                                                    [key], {});\n",
              "        if (!dataTable) return;\n",
              "\n",
              "        const docLinkHtml = 'Like what you see? Visit the ' +\n",
              "          '<a target=\"_blank\" href=https://colab.research.google.com/notebooks/data_table.ipynb>data table notebook</a>'\n",
              "          + ' to learn more about interactive tables.';\n",
              "        element.innerHTML = '';\n",
              "        dataTable['output_type'] = 'display_data';\n",
              "        await google.colab.output.renderOutput(dataTable, element);\n",
              "        const docLink = document.createElement('div');\n",
              "        docLink.innerHTML = docLinkHtml;\n",
              "        element.appendChild(docLink);\n",
              "      }\n",
              "    </script>\n",
              "  </div>\n",
              "\n",
              "\n",
              "<div id=\"df-520aa42f-33d1-458d-b85b-0ffb8d34ac27\">\n",
              "  <button class=\"colab-df-quickchart\" onclick=\"quickchart('df-520aa42f-33d1-458d-b85b-0ffb8d34ac27')\"\n",
              "            title=\"Suggest charts\"\n",
              "            style=\"display:none;\">\n",
              "\n",
              "<svg xmlns=\"http://www.w3.org/2000/svg\" height=\"24px\"viewBox=\"0 0 24 24\"\n",
              "     width=\"24px\">\n",
              "    <g>\n",
              "        <path d=\"M19 3H5c-1.1 0-2 .9-2 2v14c0 1.1.9 2 2 2h14c1.1 0 2-.9 2-2V5c0-1.1-.9-2-2-2zM9 17H7v-7h2v7zm4 0h-2V7h2v10zm4 0h-2v-4h2v4z\"/>\n",
              "    </g>\n",
              "</svg>\n",
              "  </button>\n",
              "\n",
              "<style>\n",
              "  .colab-df-quickchart {\n",
              "      --bg-color: #E8F0FE;\n",
              "      --fill-color: #1967D2;\n",
              "      --hover-bg-color: #E2EBFA;\n",
              "      --hover-fill-color: #174EA6;\n",
              "      --disabled-fill-color: #AAA;\n",
              "      --disabled-bg-color: #DDD;\n",
              "  }\n",
              "\n",
              "  [theme=dark] .colab-df-quickchart {\n",
              "      --bg-color: #3B4455;\n",
              "      --fill-color: #D2E3FC;\n",
              "      --hover-bg-color: #434B5C;\n",
              "      --hover-fill-color: #FFFFFF;\n",
              "      --disabled-bg-color: #3B4455;\n",
              "      --disabled-fill-color: #666;\n",
              "  }\n",
              "\n",
              "  .colab-df-quickchart {\n",
              "    background-color: var(--bg-color);\n",
              "    border: none;\n",
              "    border-radius: 50%;\n",
              "    cursor: pointer;\n",
              "    display: none;\n",
              "    fill: var(--fill-color);\n",
              "    height: 32px;\n",
              "    padding: 0;\n",
              "    width: 32px;\n",
              "  }\n",
              "\n",
              "  .colab-df-quickchart:hover {\n",
              "    background-color: var(--hover-bg-color);\n",
              "    box-shadow: 0 1px 2px rgba(60, 64, 67, 0.3), 0 1px 3px 1px rgba(60, 64, 67, 0.15);\n",
              "    fill: var(--button-hover-fill-color);\n",
              "  }\n",
              "\n",
              "  .colab-df-quickchart-complete:disabled,\n",
              "  .colab-df-quickchart-complete:disabled:hover {\n",
              "    background-color: var(--disabled-bg-color);\n",
              "    fill: var(--disabled-fill-color);\n",
              "    box-shadow: none;\n",
              "  }\n",
              "\n",
              "  .colab-df-spinner {\n",
              "    border: 2px solid var(--fill-color);\n",
              "    border-color: transparent;\n",
              "    border-bottom-color: var(--fill-color);\n",
              "    animation:\n",
              "      spin 1s steps(1) infinite;\n",
              "  }\n",
              "\n",
              "  @keyframes spin {\n",
              "    0% {\n",
              "      border-color: transparent;\n",
              "      border-bottom-color: var(--fill-color);\n",
              "      border-left-color: var(--fill-color);\n",
              "    }\n",
              "    20% {\n",
              "      border-color: transparent;\n",
              "      border-left-color: var(--fill-color);\n",
              "      border-top-color: var(--fill-color);\n",
              "    }\n",
              "    30% {\n",
              "      border-color: transparent;\n",
              "      border-left-color: var(--fill-color);\n",
              "      border-top-color: var(--fill-color);\n",
              "      border-right-color: var(--fill-color);\n",
              "    }\n",
              "    40% {\n",
              "      border-color: transparent;\n",
              "      border-right-color: var(--fill-color);\n",
              "      border-top-color: var(--fill-color);\n",
              "    }\n",
              "    60% {\n",
              "      border-color: transparent;\n",
              "      border-right-color: var(--fill-color);\n",
              "    }\n",
              "    80% {\n",
              "      border-color: transparent;\n",
              "      border-right-color: var(--fill-color);\n",
              "      border-bottom-color: var(--fill-color);\n",
              "    }\n",
              "    90% {\n",
              "      border-color: transparent;\n",
              "      border-bottom-color: var(--fill-color);\n",
              "    }\n",
              "  }\n",
              "</style>\n",
              "\n",
              "  <script>\n",
              "    async function quickchart(key) {\n",
              "      const quickchartButtonEl =\n",
              "        document.querySelector('#' + key + ' button');\n",
              "      quickchartButtonEl.disabled = true;  // To prevent multiple clicks.\n",
              "      quickchartButtonEl.classList.add('colab-df-spinner');\n",
              "      try {\n",
              "        const charts = await google.colab.kernel.invokeFunction(\n",
              "            'suggestCharts', [key], {});\n",
              "      } catch (error) {\n",
              "        console.error('Error during call to suggestCharts:', error);\n",
              "      }\n",
              "      quickchartButtonEl.classList.remove('colab-df-spinner');\n",
              "      quickchartButtonEl.classList.add('colab-df-quickchart-complete');\n",
              "    }\n",
              "    (() => {\n",
              "      let quickchartButtonEl =\n",
              "        document.querySelector('#df-520aa42f-33d1-458d-b85b-0ffb8d34ac27 button');\n",
              "      quickchartButtonEl.style.display =\n",
              "        google.colab.kernel.accessAllowed ? 'block' : 'none';\n",
              "    })();\n",
              "  </script>\n",
              "</div>\n",
              "\n",
              "    </div>\n",
              "  </div>\n"
            ],
            "application/vnd.google.colaboratory.intrinsic+json": {
              "type": "dataframe",
              "variable_name": "df",
              "summary": "{\n  \"name\": \"df\",\n  \"rows\": 221,\n  \"fields\": [\n    {\n      \"column\": \"Name (Original Name)\",\n      \"properties\": {\n        \"dtype\": \"category\",\n        \"num_unique_values\": 68,\n        \"samples\": [\n          \"Abhishek Singh CLASS 12-C\",\n          \"Manisha Prajapat\",\n          \"sneha pawar\"\n        ],\n        \"semantic_type\": \"\",\n        \"description\": \"\"\n      }\n    },\n    {\n      \"column\": \"User Email\",\n      \"properties\": {\n        \"dtype\": \"category\",\n        \"num_unique_values\": 1,\n        \"samples\": [\n          \"akshita@agie.ai\"\n        ],\n        \"semantic_type\": \"\",\n        \"description\": \"\"\n      }\n    },\n    {\n      \"column\": \"Join Time\",\n      \"properties\": {\n        \"dtype\": \"object\",\n        \"num_unique_values\": 168,\n        \"samples\": [\n          \"06/28/2024 04:35:12 PM\"\n        ],\n        \"semantic_type\": \"\",\n        \"description\": \"\"\n      }\n    },\n    {\n      \"column\": \"Leave Time\",\n      \"properties\": {\n        \"dtype\": \"object\",\n        \"num_unique_values\": 141,\n        \"samples\": [\n          \"06/28/2024 04:17:20 PM\"\n        ],\n        \"semantic_type\": \"\",\n        \"description\": \"\"\n      }\n    },\n    {\n      \"column\": \"Duration (Minutes)\",\n      \"properties\": {\n        \"dtype\": \"number\",\n        \"std\": 23,\n        \"min\": 0,\n        \"max\": 74,\n        \"num_unique_values\": 46,\n        \"samples\": [\n          53\n        ],\n        \"semantic_type\": \"\",\n        \"description\": \"\"\n      }\n    },\n    {\n      \"column\": \"Guest\",\n      \"properties\": {\n        \"dtype\": \"category\",\n        \"num_unique_values\": 2,\n        \"samples\": [\n          \"Yes\"\n        ],\n        \"semantic_type\": \"\",\n        \"description\": \"\"\n      }\n    },\n    {\n      \"column\": \"In Waiting Room\",\n      \"properties\": {\n        \"dtype\": \"category\",\n        \"num_unique_values\": 2,\n        \"samples\": [\n          \"Yes\"\n        ],\n        \"semantic_type\": \"\",\n        \"description\": \"\"\n      }\n    }\n  ]\n}"
            }
          },
          "metadata": {},
          "execution_count": 5
        }
      ]
    },
    {
      "cell_type": "code",
      "source": [
        "import pandas as pd\n",
        "\n",
        "# Assuming 'Duration' is in HH:MM:SS format and exists in your DataFrame\n",
        "# Convert the 'Duration' column to timedelta for proper aggregation\n",
        "df['Duration (Minutes)'] = pd.to_timedelta(df['Duration (Minutes)'])\n",
        "\n",
        "# Group by 'Name (Original Name)' and calculate the total duration\n",
        "total_durations = df.groupby('Name (Original Name)')['Duration (Minutes)'].sum().reset_index()\n",
        "\n",
        "# Print the result\n",
        "print(total_durations)"
      ],
      "metadata": {
        "colab": {
          "base_uri": "https://localhost:8080/"
        },
        "id": "pVNv5OFNMO-w",
        "outputId": "71e88f51-aa2a-4e0e-ddea-5040ef30a377"
      },
      "execution_count": 10,
      "outputs": [
        {
          "output_type": "stream",
          "name": "stdout",
          "text": [
            "                 Name (Original Name)        Duration (Minutes)\n",
            "0                 200636_Nikhil Singh 0 days 00:00:00.000000001\n",
            "1                  2255 _Tanisha Basu 0 days 00:00:00.000000077\n",
            "2                              Aayush 0 days 00:00:00.000000087\n",
            "3   Aayush (Aayush Gulati (B21BB002)) 0 days 00:00:00.000000009\n",
            "4                      Abhishek Reddy 0 days 00:00:00.000000014\n",
            "..                                ...                       ...\n",
            "63                          adithia v 0 days 00:00:00.000000098\n",
            "64                             pratik 0 days 00:00:00.000000098\n",
            "65                      satwik tiwari 0 days 00:00:00.000000005\n",
            "66                      shivam pandey 0 days 00:00:00.000000086\n",
            "67                        sneha pawar 0 days 00:00:00.000000095\n",
            "\n",
            "[68 rows x 2 columns]\n"
          ]
        }
      ]
    },
    {
      "cell_type": "code",
      "source": [
        "# Ensure the 'Duration (Minutes)' column is in numerical format\n",
        "df['Duration (Minutes)'] = pd.to_numeric(df['Duration (Minutes)'], errors='coerce')\n",
        "\n",
        "# Calculate the total duration of attendance for the entire batch\n",
        "total_batch_duration = df['Duration (Minutes)'].sum()\n",
        "\n",
        "# Print the result\n",
        "print(f'Total Duration of Attendance for the Batch: {total_batch_duration} minutes')"
      ],
      "metadata": {
        "colab": {
          "base_uri": "https://localhost:8080/"
        },
        "id": "8n4n5LOsmrVI",
        "outputId": "04f99867-4d74-4c09-dfa0-2bdfafda5784"
      },
      "execution_count": 13,
      "outputs": [
        {
          "output_type": "stream",
          "name": "stdout",
          "text": [
            "Total Duration of Attendance for the Batch: 4783 minutes\n"
          ]
        }
      ]
    },
    {
      "cell_type": "code",
      "source": [
        "# Ensure the 'Duration (Minutes)' column is in numerical format\n",
        "df['Duration (Minutes)'] = pd.to_numeric(df['Duration (Minutes)'], errors='coerce')\n",
        "\n",
        "# Calculate the average duration of attendance for the entire batch\n",
        "average_batch_duration = df['Duration (Minutes)'].mean()\n",
        "\n",
        "# Print the result\n",
        "print(f'Average Duration of Attendance for the Batch: {average_batch_duration} minutes')"
      ],
      "metadata": {
        "colab": {
          "base_uri": "https://localhost:8080/"
        },
        "id": "VFSaFV5enMMs",
        "outputId": "c4a2f130-b948-4ba3-ffd0-162f44839c6e"
      },
      "execution_count": 14,
      "outputs": [
        {
          "output_type": "stream",
          "name": "stdout",
          "text": [
            "Average Duration of Attendance for the Batch: 21.642533936651585 minutes\n"
          ]
        }
      ]
    },
    {
      "cell_type": "code",
      "source": [
        "\n",
        "\n",
        "# Ensure the 'Duration (Minutes)' column is in numerical format\n",
        "df['Duration (Minutes)'] = pd.to_numeric(df['Duration (Minutes)'], errors='coerce')\n",
        "\n",
        "# Drop rows with missing 'Duration (Minutes)' data (if needed)\n",
        "df.dropna(subset=['Duration (Minutes)'], inplace=True)\n",
        "\n",
        "# Calculate standard deviation of attendance duration for each batch\n",
        "std_dev_per_batch = df['Duration (Minutes)'].std()\n",
        "\n",
        "# Print the result\n",
        "print(\"Standard Deviation of Attendance Duration for Each Batch:\")\n",
        "print(std_dev_per_batch)"
      ],
      "metadata": {
        "colab": {
          "base_uri": "https://localhost:8080/"
        },
        "id": "pd1w75s3nWas",
        "outputId": "0b5c44e8-d31d-4aa8-98ae-2686b7c78d5e"
      },
      "execution_count": 18,
      "outputs": [
        {
          "output_type": "stream",
          "name": "stdout",
          "text": [
            "Standard Deviation of Attendance Duration for Each Batch:\n",
            "23.234648908765887\n"
          ]
        }
      ]
    },
    {
      "cell_type": "code",
      "source": [
        "# Ensure the 'Duration (Minutes)' column is in numerical format\n",
        "df['Duration (Minutes)'] = pd.to_numeric(df['Duration (Minutes)'], errors='coerce')\n",
        "\n",
        "# Drop rows with missing 'Duration (Minutes)' data (if needed)\n",
        "df.dropna(subset=['Duration (Minutes)'], inplace=True)\n",
        "\n",
        "# Calculate average duration for each batch\n",
        "average_batch_duration = df['Duration (Minutes)'].mean()\n",
        "\n",
        "# Add the average duration as a new column to the DataFrame\n",
        "df['Average Duration'] = average_batch_duration # Add this line to create the missing column\n",
        "\n",
        "# Calculate number of users attending more than average duration per batch\n",
        "df['Above Average'] = df['Duration (Minutes)'] > df['Average Duration']\n",
        "count_above_average = df['Above Average'].sum()\n",
        "\n",
        "# Calculate percentage of users attending more than average duration per batch\n",
        "total_users = len(df)  # Use len(df) to get the number of rows\n",
        "percentage_above_average = (count_above_average / total_users) * 100\n",
        "\n",
        "# Print the result\n",
        "print(\"Percentage of Users Attending More than Average Duration for Each Batch:\")\n",
        "print(percentage_above_average)"
      ],
      "metadata": {
        "colab": {
          "base_uri": "https://localhost:8080/"
        },
        "id": "TJ4v4faCogrU",
        "outputId": "e0019cb2-06a7-4d50-9f95-7e2811e8573a"
      },
      "execution_count": 23,
      "outputs": [
        {
          "output_type": "stream",
          "name": "stdout",
          "text": [
            "Percentage of Users Attending More than Average Duration for Each Batch:\n",
            "25.791855203619914\n"
          ]
        }
      ]
    },
    {
      "cell_type": "code",
      "source": [
        "import pandas as pd\n",
        "import matplotlib.pyplot as plt\n",
        "\n",
        "# Assuming 'df' is your DataFrame and 'Duration (Minutes)' is a numerical column\n",
        "\n",
        "# Define the bin edges for the histogram\n",
        "bins = [0, 10, 20, 30, 40, 50, 60, 70, 80]  # Customize as needed\n",
        "\n",
        "# Plot the histogram\n",
        "plt.hist(df['Duration (Minutes)'], bins=bins, edgecolor='black')\n",
        "\n",
        "# Set labels and title\n",
        "plt.xlabel('Duration (Minutes)')\n",
        "plt.ylabel('Number of Users')\n",
        "plt.title('Distribution of User Durations')\n",
        "\n",
        "# Show the plot\n",
        "plt.show()"
      ],
      "metadata": {
        "colab": {
          "base_uri": "https://localhost:8080/",
          "height": 472
        },
        "id": "Uqd8QfqMpGfz",
        "outputId": "71303e0b-e297-4592-fd59-625772ce14c2"
      },
      "execution_count": 24,
      "outputs": [
        {
          "output_type": "display_data",
          "data": {
            "text/plain": [
              "<Figure size 640x480 with 1 Axes>"
            ],
            "image/png": "[encoded data removed]"
          },
          "metadata": {}
        }
      ]
    },
    {
      "cell_type": "code",
      "source": [
        "import pandas as pd\n",
        "\n",
        "# Assuming 'df' is your DataFrame and 'Duration (Minutes)' is a numerical column\n",
        "\n",
        "# Ensure the 'Duration (Minutes)' column is in numerical format\n",
        "df['Duration (Minutes)'] = pd.to_numeric(df['Duration (Minutes)'], errors='coerce')\n",
        "\n",
        "# Drop rows with missing 'Duration (Minutes)' data (if needed)\n",
        "df.dropna(subset=['Duration (Minutes)'], inplace=True)\n",
        "\n",
        "# Calculate metrics for each batch\n",
        "results = []\n",
        "for batch, group in df.groupby('Batch'):\n",
        "    total_duration = group['Duration (Minutes)'].sum()\n",
        "    average_duration = group['Duration (Minutes)'].mean()\n",
        "    std_dev = group['Duration (Minutes)'].std()\n",
        "\n",
        "    # Calculate percentage above average\n",
        "    count_above_average = (group['Duration (Minutes)'] > average_duration).sum()\n",
        "    total_users = len(group)\n",
        "    percentage_above_average = (count_above_average / total_users) * 100\n",
        "\n",
        "    results.append([batch, total_duration, average_duration, std_dev, percentage_above_average])\n",
        "\n",
        "# Create a DataFrame from the results\n",
        "result_df = pd.DataFrame(results, columns=['Batch', 'Total Duration', 'Average Duration', 'Standard Deviation', 'Percentage Above Average'])\n",
        "\n",
        "# Print the results\n",
        "print(result_df)"
      ],
      "metadata": {
        "colab": {
          "base_uri": "https://localhost:8080/"
        },
        "id": "z4Q1YCsjpNVW",
        "outputId": "1a1ea68f-e066-41cc-d055-3b149a77bbbc"
      },
      "execution_count": 32,
      "outputs": [
        {
          "output_type": "stream",
          "name": "stdout",
          "text": [
            "     Batch  Total Duration  Average Duration  Standard Deviation  \\\n",
            "0  Batch 1            4783         21.642534           23.234649   \n",
            "\n",
            "   Percentage Above Average  \n",
            "0                 25.791855  \n"
          ]
        }
      ]
    },
    {
      "cell_type": "code",
      "source": [
        "import pandas as pd\n",
        "import matplotlib.pyplot as plt\n",
        "\n",
        "# Ensure the 'Duration (Minutes)' column is in numerical format\n",
        "df['Duration (Minutes)'] = pd.to_numeric(df['Duration (Minutes)'], errors='coerce')\n",
        "\n",
        "# Drop rows with missing 'Duration (Minutes)' data (if needed)\n",
        "df.dropna(subset=['Duration (Minutes)'], inplace=True)\n",
        "\n",
        "# Calculate metrics for each batch\n",
        "metrics_per_batch = df.groupby('Batch').agg({\n",
        "    'Duration (Minutes)': ['sum', 'mean', 'std'],\n",
        "    'Name (Original Name)': 'size'  # Count users per batch\n",
        "})\n",
        "\n",
        "# Rename columns for clarity\n",
        "metrics_per_batch.columns = ['Total Duration', 'Average Duration', 'Standard Deviation', 'Total Users']\n",
        "\n",
        "# Calculate average duration for each batch\n",
        "average_batch_duration = df.groupby('Batch')['Duration (Minutes)'].mean()\n",
        "\n",
        "# Merge average duration back to the original DataFrame\n",
        "df = pd.merge(df, average_batch_duration.rename('Average Duration'), on='Batch') # Add the 'Average Duration' column to the DataFrame\n",
        "\n",
        "# Calculate number of users attending more than average duration per batch\n",
        "df['Above Average'] = df['Duration (Minutes)'] > df['Average Duration']\n",
        "count_above_average = df.groupby('Batch')['Above Average'].sum()\n",
        "\n",
        "# Calculate percentage of users attending more than average duration per batch\n",
        "total_users_per_batch = df.groupby('Batch').size()\n",
        "percentage_above_average = (count_above_average / total_users_per_batch) * 100\n",
        "\n",
        "# Add percentage above average to metrics_per_batch DataFrame\n",
        "metrics_per_batch['Percentage Above Average'] = percentage_above_average\n",
        "\n",
        "# Print detailed summary report\n",
        "print(\"Detailed Summary Report\")\n",
        "print(\"-----------------------\")\n",
        "\n",
        "# Print metrics_per_batch\n",
        "print(\"\\nMetrics per Batch:\")\n",
        "print(metrics_per_batch)\n",
        "\n",
        "# Additional insights or summaries can be printed here\n",
        "# Example: Summary statistics for total dataset\n",
        "print(\"\\nOverall Summary Statistics:\")\n",
        "print(df.describe())\n",
        "\n",
        "# Plotting total duration by batch\n",
        "plt.figure(figsize=(10, 6))\n",
        "plt.bar(metrics_per_batch.index, metrics_per_batch['Total Duration'], color='skyblue')\n",
        "plt.xlabel('Batch')\n",
        "plt.ylabel('Total Duration (minutes)')\n",
        "plt.title('Total Duration by Batch')\n",
        "plt.xticks(rotation=45)\n",
        "plt.tight_layout()\n",
        "plt.show()\n",
        "\n",
        "# Plotting average duration by batch\n",
        "plt.figure(figsize=(10, 6))\n",
        "plt.bar(metrics_per_batch.index, metrics_per_batch['Average Duration'], color='lightgreen')\n",
        "plt.xlabel('Batch')\n",
        "plt.ylabel('Average Duration (minutes)')\n",
        "plt.title('Average Duration by Batch')\n",
        "plt.xticks(rotation=45)\n",
        "plt.tight_layout()\n",
        "plt.show()\n",
        "\n",
        "# Plotting percentage of users above average duration by batch\n",
        "plt.figure(figsize=(10, 6))\n",
        "plt.bar(metrics_per_batch.index, metrics_per_batch['Percentage Above Average'], color='lightcoral')\n",
        "plt.xlabel('Batch')\n",
        "plt.ylabel('Percentage Above Average (%)')\n",
        "plt.title('Percentage of Users Above Average Duration by Batch')\n",
        "plt.xticks(rotation=45)\n",
        "plt.tight_layout()\n",
        "plt.show()"
      ],
      "metadata": {
        "colab": {
          "base_uri": "https://localhost:8080/",
          "height": 1000
        },
        "id": "n6pmnrytqPtz",
        "outputId": "3db267c7-3a70-4935-ebd5-936546aa1b49"
      },
      "execution_count": 31,
      "outputs": [
        {
          "output_type": "stream",
          "name": "stdout",
          "text": [
            "Detailed Summary Report\n",
            "-----------------------\n",
            "\n",
            "Metrics per Batch:\n",
            "         Total Duration  Average Duration  Standard Deviation  Total Users  \\\n",
            "Batch                                                                        \n",
            "Batch 1            4783         21.642534           23.234649          221   \n",
            "\n",
            "         Percentage Above Average  \n",
            "Batch                              \n",
            "Batch 1                 25.791855  \n",
            "\n",
            "Overall Summary Statistics:\n",
            "       Duration (Minutes)  Average Duration_x  Average Duration_y  \\\n",
            "count          221.000000        2.210000e+02        2.210000e+02   \n",
            "mean            21.642534        2.164253e+01        2.164253e+01   \n",
            "std             23.234649        7.121558e-15        7.121558e-15   \n",
            "min              0.000000        2.164253e+01        2.164253e+01   \n",
            "25%              5.000000        2.164253e+01        2.164253e+01   \n",
            "50%             13.000000        2.164253e+01        2.164253e+01   \n",
            "75%             24.000000        2.164253e+01        2.164253e+01   \n",
            "max             74.000000        2.164253e+01        2.164253e+01   \n",
            "\n",
            "       Average Duration  \n",
            "count      2.210000e+02  \n",
            "mean       2.164253e+01  \n",
            "std        7.121558e-15  \n",
            "min        2.164253e+01  \n",
            "25%        2.164253e+01  \n",
            "50%        2.164253e+01  \n",
            "75%        2.164253e+01  \n",
            "max        2.164253e+01  \n"
          ]
        },
        {
          "output_type": "display_data",
          "data": {
            "text/plain": [
              "<Figure size 1000x600 with 1 Axes>"
            ],
            "image/png": "[encoded data removed]"
          },
          "metadata": {}
        },
        {
          "output_type": "display_data",
          "data": {
            "text/plain": [
              "<Figure size 1000x600 with 1 Axes>"
            ],
            "image/png": "[encoded data removed]"
          },
          "metadata": {}
        },
        {
          "output_type": "display_data",
          "data": {
            "text/plain": [
              "<Figure size 1000x600 with 1 Axes>"
            ],
            "image/png": "[encoded data removed]"
          },
          "metadata": {}
        }
      ]
    }
  ]
}
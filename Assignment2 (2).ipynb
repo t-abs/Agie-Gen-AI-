{
  "nbformat": 4,
  "nbformat_minor": 0,
  "metadata": {
    "colab": {
      "provenance": []
    },
    "kernelspec": {
      "name": "python3",
      "display_name": "Python 3"
    },
    "language_info": {
      "name": "python"
    }
  },
  "cells": [
    {
      "cell_type": "code",
      "execution_count": 1,
      "metadata": {
        "colab": {
          "base_uri": "https://localhost:8080/"
        },
        "id": "vIScUfbLceGW",
        "outputId": "78549ba3-275b-448e-8f1e-7ec514291bf8"
      },
      "outputs": [
        {
          "output_type": "stream",
          "name": "stdout",
          "text": [
            "Q: Can I use my smartwatch to track my sleep?\n",
            "A: Yes, most modern smartwatches come equipped with sleep-tracking features. To use your smartwatch to track your sleep, wear it while you sleep, and ensure sleep tracking is enabled in the settings. The smartwatch will monitor your sleep patterns, including the duration and quality of your sleep, and provide detailed reports through the companion app on your smartphone. Be sure to charge your smartwatch before going to bed to ensure it has enough battery life to track your sleep throughout the night.\n"
          ]
        }
      ],
      "source": [
        "# Define the FAQs using a dictionary\n",
        "faqs = {\n",
        "    \"How do I connect my smartwatch to my smartphone?\": (\n",
        "        \"To connect your smartwatch to your smartphone, ensure Bluetooth is enabled on both devices. \"\n",
        "        \"Open the smartwatch app on your phone, select 'Pair a New Device,' and follow the on-screen instructions \"\n",
        "        \"to complete the pairing process.\"\n",
        "    ),\n",
        "    \"Can I use my smartwatch to make phone calls?\": (\n",
        "        \"Yes, most smartwatches allow you to make and receive phone calls when connected to your smartphone via Bluetooth. \"\n",
        "        \"Some models also have built-in LTE capabilities, allowing you to make calls directly from the watch without needing your phone.\"\n",
        "    ),\n",
        "    \"How accurate is the heart rate monitor on a smartwatch?\": (\n",
        "        \"The heart rate monitor on a smartwatch is generally accurate for most casual fitness activities. \"\n",
        "        \"However, it may not be as precise as medical-grade equipment. For the best results, ensure the watch is snug on your wrist \"\n",
        "        \"and follow the manufacturer's guidelines.\"\n",
        "    ),\n",
        "    \"Can I swim with my smartwatch?\": (\n",
        "        \"Many smartwatches are water-resistant and can be worn while swimming. Check the specific water resistance rating of your smartwatch model. \"\n",
        "        \"For example, a rating of 5 ATM means the watch is suitable for swimming in shallow water but not for diving.\"\n",
        "    ),\n",
        "    \"How do I install apps on my smartwatch?\": (\n",
        "        \"To install apps on your smartwatch, open the smartwatch app on your smartphone, navigate to the 'App Store' or 'Google Play Store' section, \"\n",
        "        \"and browse or search for apps compatible with your watch. Once you find an app, select it and follow the instructions to install it on your smartwatch.\"\n",
        "    ),\n",
        "    \"How long does the battery of a smartwatch last?\": (\n",
        "        \"The battery life of a smartwatch varies depending on the model and usage. On average, a smartwatch battery can last from one to three days on a single charge. \"\n",
        "        \"Features like GPS, continuous heart rate monitoring, and always-on displays can reduce battery life.\"\n",
        "    ),\n",
        "    \"How do I update the software on my smartwatch?\": (\n",
        "        \"To update the software on your smartwatch, ensure it is connected to your smartphone and has a sufficient battery charge. \"\n",
        "        \"Open the smartwatch app on your phone, go to 'Settings,' and select 'Software Update.' Follow the on-screen instructions to download and install the latest updates.\"\n",
        "    ),\n",
        "    \"Can I use my smartwatch to track my sleep?\": (\n",
        "        \"Yes, most modern smartwatches come equipped with sleep-tracking features. To use your smartwatch to track your sleep, wear it while you sleep, \"\n",
        "        \"and ensure sleep tracking is enabled in the settings. The smartwatch will monitor your sleep patterns, including the duration and quality of your sleep, \"\n",
        "        \"and provide detailed reports through the companion app on your smartphone. Be sure to charge your smartwatch before going to bed to ensure it has enough battery life \"\n",
        "        \"to track your sleep throughout the night.\"\n",
        "    )\n",
        "}\n",
        "\n",
        "# Function to get the answer to an FAQ\n",
        "def get_faq_answer(question):\n",
        "    return faqs.get(question, \"Sorry, I don't have an answer to that question.\")\n",
        "\n",
        "# Example usage\n",
        "novel_question = \"Can I use my smartwatch to track my sleep?\"\n",
        "answer = get_faq_answer(novel_question)\n",
        "print(f\"Q: {novel_question}\\nA: {answer}\")\n"
      ]
    },
    {
      "cell_type": "code",
      "source": [
        "class SmartwatchFAQModel:\n",
        "    def __init__(self, faqs):\n",
        "        self.faqs = faqs\n",
        "\n",
        "    def get_answer(self, question):\n",
        "        # Check if the question exactly matches any FAQ\n",
        "        if question in self.faqs:\n",
        "            return self.faqs[question]\n",
        "\n",
        "        # If not, try to find a close match\n",
        "        return self._find_closest_match(question)\n",
        "\n",
        "    def _find_closest_match(self, question):\n",
        "        # For simplicity, find the FAQ with the most common words\n",
        "        question_words = set(question.lower().split())\n",
        "        best_match = None\n",
        "        best_match_score = 0\n",
        "\n",
        "        for faq_question in self.faqs:\n",
        "            faq_question_words = set(faq_question.lower().split())\n",
        "            common_words = question_words.intersection(faq_question_words)\n",
        "            score = len(common_words)\n",
        "\n",
        "            if score > best_match_score:\n",
        "                best_match = faq_question\n",
        "                best_match_score = score\n",
        "\n",
        "        if best_match:\n",
        "            return self.faqs[best_match]\n",
        "        else:\n",
        "            return \"Sorry, I don't have an answer to that question.\"\n",
        "\n",
        "# Define the FAQs using a dictionary\n",
        "faqs = {\n",
        "    \"How do I connect my smartwatch to my smartphone?\": (\n",
        "        \"To connect your smartwatch to your smartphone, ensure Bluetooth is enabled on both devices. \"\n",
        "        \"Open the smartwatch app on your phone, select 'Pair a New Device,' and follow the on-screen instructions \"\n",
        "        \"to complete the pairing process.\"\n",
        "    ),\n",
        "    \"Can I use my smartwatch to make phone calls?\": (\n",
        "        \"Yes, most smartwatches allow you to make and receive phone calls when connected to your smartphone via Bluetooth. \"\n",
        "        \"Some models also have built-in LTE capabilities, allowing you to make calls directly from the watch without needing your phone.\"\n",
        "    ),\n",
        "    \"How accurate is the heart rate monitor on a smartwatch?\": (\n",
        "        \"The heart rate monitor on a smartwatch is generally accurate for most casual fitness activities. \"\n",
        "        \"However, it may not be as precise as medical-grade equipment. For the best results, ensure the watch is snug on your wrist \"\n",
        "        \"and follow the manufacturer's guidelines.\"\n",
        "    ),\n",
        "    \"Can I swim with my smartwatch?\": (\n",
        "        \"Many smartwatches are water-resistant and can be worn while swimming. Check the specific water resistance rating of your smartwatch model. \"\n",
        "        \"For example, a rating of 5 ATM means the watch is suitable for swimming in shallow water but not for diving.\"\n",
        "    ),\n",
        "    \"How do I install apps on my smartwatch?\": (\n",
        "        \"To install apps on your smartwatch, open the smartwatch app on your smartphone, navigate to the 'App Store' or 'Google Play Store' section, \"\n",
        "        \"and browse or search for apps compatible with your watch. Once you find an app, select it and follow the instructions to install it on your smartwatch.\"\n",
        "    ),\n",
        "    \"How long does the battery of a smartwatch last?\": (\n",
        "        \"The battery life of a smartwatch varies depending on the model and usage. On average, a smartwatch battery can last from one to three days on a single charge. \"\n",
        "        \"Features like GPS, continuous heart rate monitoring, and always-on displays can reduce battery life.\"\n",
        "    ),\n",
        "    \"How do I update the software on my smartwatch?\": (\n",
        "        \"To update the software on your smartwatch, ensure it is connected to your smartphone and has a sufficient battery charge. \"\n",
        "        \"Open the smartwatch app on your phone, go to 'Settings,' and select 'Software Update.' Follow the on-screen instructions to download and install the latest updates.\"\n",
        "    ),\n",
        "    \"Can I use my smartwatch to track my sleep?\": (\n",
        "        \"Yes, most modern smartwatches come equipped with sleep-tracking features. To use your smartwatch to track your sleep, wear it while you sleep, \"\n",
        "        \"and ensure sleep tracking is enabled in the settings. The smartwatch will monitor your sleep patterns, including the duration and quality of your sleep, \"\n",
        "        \"and provide detailed reports through the companion app on your smartphone. Be sure to charge your smartwatch before going to bed to ensure it has enough battery life \"\n",
        "        \"to track your sleep throughout the night.\"\n",
        "    )\n",
        "}\n",
        "\n",
        "# Instantiate the model with the FAQ context\n",
        "smartwatch_faq_model = SmartwatchFAQModel(faqs)\n",
        "\n",
        "# Example usage with a novel question\n",
        "novel_question = \"Does my smartwatch have a sleep tracking feature?\"\n",
        "answer = smartwatch_faq_model.get_answer(novel_question)\n",
        "print(f\"Q: {novel_question}\\nA: {answer}\")\n"
      ],
      "metadata": {
        "colab": {
          "base_uri": "https://localhost:8080/"
        },
        "id": "D0oNGWQ5ctUq",
        "outputId": "afb5a694-e19c-4ad7-911b-de067ab780b5"
      },
      "execution_count": 2,
      "outputs": [
        {
          "output_type": "stream",
          "name": "stdout",
          "text": [
            "Q: Does my smartwatch have a sleep tracking feature?\n",
            "A: The battery life of a smartwatch varies depending on the model and usage. On average, a smartwatch battery can last from one to three days on a single charge. Features like GPS, continuous heart rate monitoring, and always-on displays can reduce battery life.\n"
          ]
        }
      ]
    }
  ]
}